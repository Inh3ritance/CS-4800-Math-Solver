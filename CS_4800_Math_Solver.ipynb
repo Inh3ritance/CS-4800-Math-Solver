{
  "nbformat": 4,
  "nbformat_minor": 0,
  "metadata": {
    "colab": {
      "name": "CS-4800-Math-Solver.ipynb",
      "provenance": [],
      "collapsed_sections": []
    },
    "kernelspec": {
      "name": "python3",
      "display_name": "Python 3"
    }
  },
  "cells": [
    {
      "cell_type": "code",
      "metadata": {
        "id": "Z4l5c7ewjhKi",
        "colab_type": "code",
        "colab": {
          "base_uri": "https://localhost:8080/",
          "height": 1000
        },
        "outputId": "4c877aab-88a3-4e85-fb9c-82ae813814f6"
      },
      "source": [
        "!pip install jupyter-dash"
      ],
      "execution_count": 1,
      "outputs": [
        {
          "output_type": "stream",
          "text": [
            "Collecting jupyter-dash\n",
            "\u001b[?25l  Downloading https://files.pythonhosted.org/packages/b9/b9/5f9499a0154124a262c85e3a99033b9b3a20dc3d2707b587f52b32b60d76/jupyter_dash-0.3.1-py3-none-any.whl (49kB)\n",
            "\r\u001b[K     |██████▊                         | 10kB 16.6MB/s eta 0:00:01\r\u001b[K     |█████████████▍                  | 20kB 2.2MB/s eta 0:00:01\r\u001b[K     |████████████████████            | 30kB 2.8MB/s eta 0:00:01\r\u001b[K     |██████████████████████████▊     | 40kB 3.1MB/s eta 0:00:01\r\u001b[K     |████████████████████████████████| 51kB 1.9MB/s \n",
            "\u001b[?25hRequirement already satisfied: requests in /usr/local/lib/python3.6/dist-packages (from jupyter-dash) (2.23.0)\n",
            "Requirement already satisfied: flask in /usr/local/lib/python3.6/dist-packages (from jupyter-dash) (1.1.2)\n",
            "Collecting dash\n",
            "\u001b[?25l  Downloading https://files.pythonhosted.org/packages/e2/38/a228339b70a6f4f2673805c055a0b08295c0e4622ef7b6670f28559c8594/dash-1.15.0.tar.gz (71kB)\n",
            "\u001b[K     |████████████████████████████████| 71kB 4.1MB/s \n",
            "\u001b[?25hCollecting ansi2html\n",
            "  Downloading https://files.pythonhosted.org/packages/b7/f5/0d658908d70cb902609fbb39b9ce891b99e060fa06e98071d369056e346f/ansi2html-1.5.2.tar.gz\n",
            "Requirement already satisfied: retrying in /usr/local/lib/python3.6/dist-packages (from jupyter-dash) (1.3.3)\n",
            "Requirement already satisfied: ipython in /usr/local/lib/python3.6/dist-packages (from jupyter-dash) (5.5.0)\n",
            "Requirement already satisfied: ipykernel in /usr/local/lib/python3.6/dist-packages (from jupyter-dash) (4.10.1)\n",
            "Requirement already satisfied: certifi>=2017.4.17 in /usr/local/lib/python3.6/dist-packages (from requests->jupyter-dash) (2020.6.20)\n",
            "Requirement already satisfied: idna<3,>=2.5 in /usr/local/lib/python3.6/dist-packages (from requests->jupyter-dash) (2.10)\n",
            "Requirement already satisfied: urllib3!=1.25.0,!=1.25.1,<1.26,>=1.21.1 in /usr/local/lib/python3.6/dist-packages (from requests->jupyter-dash) (1.24.3)\n",
            "Requirement already satisfied: chardet<4,>=3.0.2 in /usr/local/lib/python3.6/dist-packages (from requests->jupyter-dash) (3.0.4)\n",
            "Requirement already satisfied: click>=5.1 in /usr/local/lib/python3.6/dist-packages (from flask->jupyter-dash) (7.1.2)\n",
            "Requirement already satisfied: Werkzeug>=0.15 in /usr/local/lib/python3.6/dist-packages (from flask->jupyter-dash) (1.0.1)\n",
            "Requirement already satisfied: Jinja2>=2.10.1 in /usr/local/lib/python3.6/dist-packages (from flask->jupyter-dash) (2.11.2)\n",
            "Requirement already satisfied: itsdangerous>=0.24 in /usr/local/lib/python3.6/dist-packages (from flask->jupyter-dash) (1.1.0)\n",
            "Collecting flask-compress\n",
            "  Downloading https://files.pythonhosted.org/packages/a0/96/cd684c1ffe97b513303b5bfd4bbfb4114c5f4a5ea8a737af6fd813273df8/Flask-Compress-1.5.0.tar.gz\n",
            "Requirement already satisfied: plotly in /usr/local/lib/python3.6/dist-packages (from dash->jupyter-dash) (4.4.1)\n",
            "Collecting dash_renderer==1.7.0\n",
            "\u001b[?25l  Downloading https://files.pythonhosted.org/packages/3a/02/55396e3763cf419d5db74ef3969d430c35501800b83c9365b4b48756877b/dash_renderer-1.7.0.tar.gz (1.2MB)\n",
            "\u001b[K     |████████████████████████████████| 1.2MB 31.9MB/s \n",
            "\u001b[?25hCollecting dash-core-components==1.11.0\n",
            "\u001b[?25l  Downloading https://files.pythonhosted.org/packages/d9/fb/5dc7e59239905c087dcc3781b5f23ae20937c2249c731ced8e7784334083/dash_core_components-1.11.0.tar.gz (3.4MB)\n",
            "\u001b[K     |████████████████████████████████| 3.4MB 44.5MB/s \n",
            "\u001b[?25hCollecting dash-html-components==1.1.0\n",
            "\u001b[?25l  Downloading https://files.pythonhosted.org/packages/35/c7/93c8ac4c6b5ace4e3613edcc0c55e5037d899b67f468c208113c3af5d13c/dash_html_components-1.1.0.tar.gz (188kB)\n",
            "\u001b[K     |████████████████████████████████| 194kB 38.2MB/s \n",
            "\u001b[?25hCollecting dash-table==4.10.0\n",
            "\u001b[?25l  Downloading https://files.pythonhosted.org/packages/31/0c/962ac8ab886597d7fe16befc075b7e7f5483f1a9e8b4459731646c19248c/dash_table-4.10.0.tar.gz (1.8MB)\n",
            "\u001b[K     |████████████████████████████████| 1.8MB 42.2MB/s \n",
            "\u001b[?25hRequirement already satisfied: future in /usr/local/lib/python3.6/dist-packages (from dash->jupyter-dash) (0.16.0)\n",
            "Requirement already satisfied: six in /usr/local/lib/python3.6/dist-packages (from ansi2html->jupyter-dash) (1.15.0)\n",
            "Requirement already satisfied: pickleshare in /usr/local/lib/python3.6/dist-packages (from ipython->jupyter-dash) (0.7.5)\n",
            "Requirement already satisfied: pexpect; sys_platform != \"win32\" in /usr/local/lib/python3.6/dist-packages (from ipython->jupyter-dash) (4.8.0)\n",
            "Requirement already satisfied: prompt-toolkit<2.0.0,>=1.0.4 in /usr/local/lib/python3.6/dist-packages (from ipython->jupyter-dash) (1.0.18)\n",
            "Requirement already satisfied: simplegeneric>0.8 in /usr/local/lib/python3.6/dist-packages (from ipython->jupyter-dash) (0.8.1)\n",
            "Requirement already satisfied: decorator in /usr/local/lib/python3.6/dist-packages (from ipython->jupyter-dash) (4.4.2)\n",
            "Requirement already satisfied: pygments in /usr/local/lib/python3.6/dist-packages (from ipython->jupyter-dash) (2.1.3)\n",
            "Requirement already satisfied: setuptools>=18.5 in /usr/local/lib/python3.6/dist-packages (from ipython->jupyter-dash) (49.6.0)\n",
            "Requirement already satisfied: traitlets>=4.2 in /usr/local/lib/python3.6/dist-packages (from ipython->jupyter-dash) (4.3.3)\n",
            "Requirement already satisfied: tornado>=4.0 in /usr/local/lib/python3.6/dist-packages (from ipykernel->jupyter-dash) (5.1.1)\n",
            "Requirement already satisfied: jupyter-client in /usr/local/lib/python3.6/dist-packages (from ipykernel->jupyter-dash) (5.3.5)\n",
            "Requirement already satisfied: MarkupSafe>=0.23 in /usr/local/lib/python3.6/dist-packages (from Jinja2>=2.10.1->flask->jupyter-dash) (1.1.1)\n",
            "Collecting brotli\n",
            "\u001b[?25l  Downloading https://files.pythonhosted.org/packages/f4/68/60a220454dc5083c6d59b41aa90bb1c96fad62a0abf3a33e0ef64b38638a/Brotli-1.0.7-cp36-cp36m-manylinux1_x86_64.whl (352kB)\n",
            "\u001b[K     |████████████████████████████████| 358kB 41.5MB/s \n",
            "\u001b[?25hRequirement already satisfied: ptyprocess>=0.5 in /usr/local/lib/python3.6/dist-packages (from pexpect; sys_platform != \"win32\"->ipython->jupyter-dash) (0.6.0)\n",
            "Requirement already satisfied: wcwidth in /usr/local/lib/python3.6/dist-packages (from prompt-toolkit<2.0.0,>=1.0.4->ipython->jupyter-dash) (0.2.5)\n",
            "Requirement already satisfied: ipython-genutils in /usr/local/lib/python3.6/dist-packages (from traitlets>=4.2->ipython->jupyter-dash) (0.2.0)\n",
            "Requirement already satisfied: pyzmq>=13 in /usr/local/lib/python3.6/dist-packages (from jupyter-client->ipykernel->jupyter-dash) (19.0.2)\n",
            "Requirement already satisfied: python-dateutil>=2.1 in /usr/local/lib/python3.6/dist-packages (from jupyter-client->ipykernel->jupyter-dash) (2.8.1)\n",
            "Requirement already satisfied: jupyter-core>=4.6.0 in /usr/local/lib/python3.6/dist-packages (from jupyter-client->ipykernel->jupyter-dash) (4.6.3)\n",
            "Building wheels for collected packages: dash, ansi2html, flask-compress, dash-renderer, dash-core-components, dash-html-components, dash-table\n",
            "  Building wheel for dash (setup.py) ... \u001b[?25l\u001b[?25hdone\n",
            "  Created wheel for dash: filename=dash-1.15.0-cp36-none-any.whl size=80892 sha256=5cfd9c204d03c794128fc38490422b47685bb126b717006b77a309b2ab231c46\n",
            "  Stored in directory: /root/.cache/pip/wheels/d7/47/47/83e04669b545172324bae30853a71afe2962b733c568a229fe\n",
            "  Building wheel for ansi2html (setup.py) ... \u001b[?25l\u001b[?25hdone\n",
            "  Created wheel for ansi2html: filename=ansi2html-1.5.2-cp36-none-any.whl size=13862 sha256=20a910c177561a5db84ad33ffbe60d646338c3c3029e368006435ee3ba223fae\n",
            "  Stored in directory: /root/.cache/pip/wheels/f9/ea/e0/1ed3c3945ce073f930f3e5aa2b9bbadb03cd2efc8f8695cd61\n",
            "  Building wheel for flask-compress (setup.py) ... \u001b[?25l\u001b[?25hdone\n",
            "  Created wheel for flask-compress: filename=Flask_Compress-1.5.0-cp36-none-any.whl size=5272 sha256=58742ef868ca8d82bc5788a877a059d8655a3f4da4d747da854e9798935351b9\n",
            "  Stored in directory: /root/.cache/pip/wheels/f7/e9/e4/5afc286be7c87461375e33152558415dfeb0c8f5af3b50e742\n",
            "  Building wheel for dash-renderer (setup.py) ... \u001b[?25l\u001b[?25hdone\n",
            "  Created wheel for dash-renderer: filename=dash_renderer-1.7.0-cp36-none-any.whl size=1182220 sha256=f4179320c15a6b37a7258866b1019cdbe392c72e41528692637df935324c7204\n",
            "  Stored in directory: /root/.cache/pip/wheels/a3/92/2c/18cc58f2d0ae324a59cbb536d209858f1d8d1323c13088be9d\n",
            "  Building wheel for dash-core-components (setup.py) ... \u001b[?25l\u001b[?25hdone\n",
            "  Created wheel for dash-core-components: filename=dash_core_components-1.11.0-cp36-none-any.whl size=3458465 sha256=8ee6dc89d97ae7c1f30a8f7553125b67caa6a2b96aed0a0e7780eb4050fe0949\n",
            "  Stored in directory: /root/.cache/pip/wheels/b5/7d/d6/146beff4111581776c6ab8b045e86990ec0b4ab65dc9027405\n",
            "  Building wheel for dash-html-components (setup.py) ... \u001b[?25l\u001b[?25hdone\n",
            "  Created wheel for dash-html-components: filename=dash_html_components-1.1.0-cp36-none-any.whl size=427895 sha256=4f92c225463008b925e3f55ab0d13977110fd2669ed96e95a2098b852f95c046\n",
            "  Stored in directory: /root/.cache/pip/wheels/f6/85/5d/b5a186fbcd2409f32c07141e0eabcaba2eecca6cbee498dab8\n",
            "  Building wheel for dash-table (setup.py) ... \u001b[?25l\u001b[?25hdone\n",
            "  Created wheel for dash-table: filename=dash_table-4.10.0-cp36-none-any.whl size=1824998 sha256=155903b76d6a411e2b57be0bb6311f535aab37d8036c2f6c6f710486aaf9ccc3\n",
            "  Stored in directory: /root/.cache/pip/wheels/5b/00/a7/5bf2529ccc7c97f6fcae13dafd6742d3be1146d0db45468cc9\n",
            "Successfully built dash ansi2html flask-compress dash-renderer dash-core-components dash-html-components dash-table\n",
            "Installing collected packages: brotli, flask-compress, dash-renderer, dash-core-components, dash-html-components, dash-table, dash, ansi2html, jupyter-dash\n",
            "Successfully installed ansi2html-1.5.2 brotli-1.0.7 dash-1.15.0 dash-core-components-1.11.0 dash-html-components-1.1.0 dash-renderer-1.7.0 dash-table-4.10.0 flask-compress-1.5.0 jupyter-dash-0.3.1\n"
          ],
          "name": "stdout"
        }
      ]
    },
    {
      "cell_type": "code",
      "metadata": {
        "id": "3J3kF4SHCGiE",
        "colab_type": "code",
        "colab": {
          "base_uri": "https://localhost:8080/",
          "height": 52
        },
        "outputId": "ca391f93-3781-45f3-c7e2-ace2afc5cf87"
      },
      "source": [
        "import plotly.express as px\n",
        "from jupyter_dash import JupyterDash\n",
        "import dash\n",
        "import dash_core_components as dcc\n",
        "import dash_html_components as html\n",
        "from dash.dependencies import Input, Output\n",
        "\n",
        "# Load Data\n",
        "df = px.data.tips()\n",
        "\n",
        "# Build App\n",
        "app = JupyterDash(__name__)\n",
        "app.layout = html.Div([\n",
        "    html.H1(\"My Math Solver\"),\n",
        "    html.Div(\n",
        "        dcc.Input(\n",
        "            id='text_field', \n",
        "            type='text',\n",
        "            placeholder=\"Enter equation here!\"\n",
        "        )),\n",
        "    html.Button('Submit', id='submit_button', n_clicks=0),\n",
        "    html.Div(id='container-button-basic',\n",
        "             children='Enter a equation and press submit')\n",
        "    #There's some lag when updating the page with the new equation\n",
        "])\n",
        "\n",
        "\n",
        "@app.callback(\n",
        "    dash.dependencies.Output('container-button-basic', 'children'),\n",
        "    [dash.dependencies.Input('submit_button', 'n_clicks')],\n",
        "    [dash.dependencies.State('text_field', 'value')])\n",
        "\n",
        "def update_output(n_clicks, value):\n",
        "    return 'The input value was \"{}\" and the button has been clicked {} times'.format(\n",
        "        value,\n",
        "        n_clicks\n",
        "    )\n",
        "\n",
        "\n",
        "# Run app and display result inline in the notebook\n",
        "app.run_server(mode='external')"
      ],
      "execution_count": 3,
      "outputs": [
        {
          "output_type": "stream",
          "text": [
            "Dash app running on:\n"
          ],
          "name": "stdout"
        },
        {
          "output_type": "display_data",
          "data": {
            "application/javascript": [
              "(async (port, path, text, element) => {\n",
              "    if (!google.colab.kernel.accessAllowed) {\n",
              "      return;\n",
              "    }\n",
              "    element.appendChild(document.createTextNode(''));\n",
              "    const url = await google.colab.kernel.proxyPort(port);\n",
              "    const anchor = document.createElement('a');\n",
              "    anchor.href = url + path;\n",
              "    anchor.target = '_blank';\n",
              "    anchor.setAttribute('data-href', url + path);\n",
              "    anchor.textContent = text;\n",
              "    element.appendChild(anchor);\n",
              "  })(8050, \"/\", \"http://127.0.0.1:8050/\", window.element)"
            ],
            "text/plain": [
              "<IPython.core.display.Javascript object>"
            ]
          },
          "metadata": {
            "tags": []
          }
        }
      ]
    },
    {
      "cell_type": "code",
      "metadata": {
        "id": "AHsdX7ta2H-J",
        "colab_type": "code",
        "colab": {}
      },
      "source": [
        "# Do not RUN! production Server only!!!\n",
        "# ! pip install pyngrok\n",
        "# ! ngrok authtoken xxxxxxx\n",
        "\n",
        "# from pyngrok import ngrok\n",
        "\n",
        "# # Open Http tunnel to port\n",
        "# public_url = ngrok.connect(port = '8050')\n",
        "# public_url\n",
        "# ngrok.kill()\n"
      ],
      "execution_count": 4,
      "outputs": []
    }
  ]
}
