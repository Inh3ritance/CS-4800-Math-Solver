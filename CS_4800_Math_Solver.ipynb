{
  "nbformat": 4,
  "nbformat_minor": 0,
  "metadata": {
    "colab": {
      "name": "CS-4800-Math-Solver.ipynb",
      "provenance": [],
      "collapsed_sections": []
    },
    "kernelspec": {
      "display_name": "Python 3",
      "name": "python3"
    }
  },
  "cells": [
    {
      "cell_type": "code",
      "metadata": {
        "id": "GDD25oebL2LI",
        "colab": {
          "base_uri": "https://localhost:8080/"
        },
        "outputId": "3d00eb53-493d-4589-e570-49d529eef1f5"
      },
      "source": [
        "import tensorflow as tf\n",
        "from tensorflow.keras import datasets, layers, models\n",
        "import matplotlib.pyplot as plt\n",
        "\n",
        "from tqdm import tqdm\n",
        "from itertools import chain\n",
        "from skimage.io import imread, imshow, imread_collection, concatenate_images\n",
        "from skimage.transform import resize\n",
        "from skimage.morphology import label\n",
        "%matplotlib inline\n",
        "\n",
        "import os\n",
        "from google.colab import drive\n",
        "drive.mount('/content/drive/',  force_remount=True)\n",
        "\n",
        "import numpy as np\n",
        "\n",
        "# Sort files in folder\n",
        "from natsort import natsorted, ns"
      ],
      "execution_count": 1,
      "outputs": [
        {
          "output_type": "stream",
          "text": [
            "Mounted at /content/drive/\n"
          ],
          "name": "stdout"
        }
      ]
    },
    {
      "cell_type": "code",
      "metadata": {
        "id": "F5Wjrmw-L9pk"
      },
      "source": [
        "characters = ['0','1','2','3','4','5','6','7','8','9','-','+','*']\n",
        "data_train_path = []\n",
        "data_test_path =[]\n",
        "for ch in characters:\n",
        "  data_train_path.append(r\"/content/drive/My Drive/Math_Solver/assets/pruned_dataset/\" + ch + \"/training/\")\n",
        "  data_test_path.append(r\"/content/drive/My Drive/Math_Solver/assets/pruned_dataset/\" + ch + \"/testing/\")\n",
        "\n",
        "train_folder = []\n",
        "for folder in data_train_path:\n",
        "  train_folder.append([x for x in natsorted(os.listdir(folder))])\n",
        "test_folder = []\n",
        "for folder in data_test_path:\n",
        "  test_folder.append([x for x in natsorted(os.listdir(folder))])\n",
        "\n",
        "def readIMGFiles(Folder,p): # Folder, p-path\n",
        "  files = np.zeros((len(Folder), 32, 32), dtype=np.uint8)\n",
        "  for i in range(len(Folder)):\n",
        "    img = imread(p+Folder[i])[:,:]\n",
        "    img = resize(img, (32, 32), mode='constant', preserve_range=True)\n",
        "    files[i] = img.reshape(32,32)\n",
        "  return files\n"
      ],
      "execution_count": 2,
      "outputs": []
    },
    {
      "cell_type": "markdown",
      "metadata": {
        "id": "gXww_WFjfhZ3"
      },
      "source": [
        "## array reference key for paths\n",
        "## 0 - 9 : numbers 0-9\n",
        "## 10 : subtraction\n",
        "## 11 : addition\n",
        "## 12 : multiplication\n",
        "## 13 : open parenthesis\n",
        "## 14 : close parenthesis\n",
        "## 15 : y-variable\n",
        "## 16 : equal sign"
      ]
    },
    {
      "cell_type": "code",
      "metadata": {
        "id": "xi0cG2DkUW1p"
      },
      "source": [
        "training_data = readIMGFiles(train_folder[0],data_train_path[0])\n",
        "testing_data = readIMGFiles(test_folder[0],data_test_path[0])\n",
        "for i in range(1,13):\n",
        "  training_data = np.concatenate((training_data,readIMGFiles(train_folder[i], data_train_path[i])))\n",
        "  testing_data = np.concatenate((testing_data,readIMGFiles(test_folder[i], data_test_path[i])))\n",
        "training_data = training_data[...,np.newaxis]\n",
        "testing_data = testing_data[...,np.newaxis]\n",
        "print(training_data.shape)"
      ],
      "execution_count": null,
      "outputs": []
    },
    {
      "cell_type": "code",
      "metadata": {
        "id": "sbXHrRuql25b"
      },
      "source": [
        "training_labels = np.zeros([750*13])\n",
        "testing_labels = np.zeros([150*13])\n",
        "\n",
        "j = 1\n",
        "for i in range(750*13):\n",
        "  if i >= j * 750:\n",
        "    j += 1\n",
        "  training_labels[i] = int(j - 1)\n",
        "training_labels = training_labels[...,np.newaxis]\n",
        "\n",
        "j = 1\n",
        "for i in range(150*13):\n",
        "  if i >= j * 150:\n",
        "    j += 1\n",
        "  testing_labels[i] = int(j - 1)\n",
        "testing_labels = testing_labels[...,np.newaxis]\n",
        "\n",
        "print(training_labels.shape)\n",
        "print(training_labels[749])\n",
        "\n",
        "print(testing_labels.shape)\n",
        "print(testing_labels[100])"
      ],
      "execution_count": null,
      "outputs": []
    },
    {
      "cell_type": "code",
      "metadata": {
        "id": "Db7GWlgDMPT7"
      },
      "source": [
        "# change as fit/needed\n",
        "\n",
        "model = models.Sequential() # creates sequential model\n",
        "# below are the network layers being added\n",
        "model.add(layers.Conv2D(32, (3, 3), activation='relu', input_shape=(32, 32, 1))) # no rgb grey black n white\n",
        "model.add(layers.MaxPooling2D((2, 2))) \n",
        "model.add(layers.Conv2D(64, (3, 3), activation='relu'))\n",
        "model.add(layers.MaxPooling2D((2, 2)))\n",
        "model.add(layers.Conv2D(64, (3, 3), activation='relu'))\n",
        "model.add(layers.Flatten())\n",
        "model.add(layers.Dense(64, activation='relu'))\n",
        "model.add(layers.Dense(13, activation='softmax'))# 17 symbols/ characters \n",
        "\n",
        "model.summary()\n",
        "\n",
        "# change optimizer, loss, and metrics\n",
        "model.compile(optimizer='adam', loss='sparse_categorical_crossentropy', metrics=['accuracy'])\n",
        "\n",
        "# change epochs as needed for higher accuracy\n",
        "model.fit(training_data, training_labels, epochs=7, batch_size=1)\n",
        "\n",
        "# save model\n",
        "model.save('/content/drive/My Drive/Math_Solver/assets/my_model.h5')"
      ],
      "execution_count": null,
      "outputs": []
    },
    {
      "cell_type": "code",
      "metadata": {
        "id": "7uM_azDqkkAy"
      },
      "source": [
        "prediction = model.predict(testing_data, verbose=1)\n",
        "maxElem = prediction[200]\n",
        "result = np.where( maxElem == np.amax(maxElem))\n",
        "print(eval(characters[result[0][0]]))"
      ],
      "execution_count": null,
      "outputs": []
    }
  ]
}