{
  "nbformat": 4,
  "nbformat_minor": 0,
  "metadata": {
    "colab": {
      "name": "CS-4800-Math-Solver.ipynb",
      "provenance": [],
      "collapsed_sections": []
    },
    "kernelspec": {
      "display_name": "Python 3",
      "name": "python3"
    }
  },
  "cells": [
    {
      "cell_type": "code",
      "metadata": {
        "id": "GDD25oebL2LI",
        "colab": {
          "base_uri": "https://localhost:8080/"
        },
        "outputId": "dbe47849-aa8a-4b6d-a5c5-a6100e4687fb"
      },
      "source": [
        "import tensorflow as tf\n",
        "from tensorflow.keras import datasets, layers, models\n",
        "import matplotlib.pyplot as plt\n",
        "\n",
        "from tqdm import tqdm\n",
        "from itertools import chain\n",
        "from skimage.io import imread, imshow, imread_collection, concatenate_images\n",
        "from skimage.transform import resize\n",
        "from skimage.morphology import label\n",
        "%matplotlib inline\n",
        "\n",
        "import os\n",
        "from google.colab import drive\n",
        "drive.mount('/content/drive/',  force_remount=True)\n",
        "\n",
        "import numpy as np\n",
        "\n",
        "# Sort files in folder\n",
        "from natsort import natsorted, ns"
      ],
      "execution_count": 67,
      "outputs": [
        {
          "output_type": "stream",
          "text": [
            "Mounted at /content/drive/\n"
          ],
          "name": "stdout"
        }
      ]
    },
    {
      "cell_type": "code",
      "metadata": {
        "id": "F5Wjrmw-L9pk"
      },
      "source": [
        "characters = ['0','1','2','3','4','5','6','7','8','9','-','+','times','(',')','y','=']\n",
        "data_train_path = []\n",
        "data_test_path =[]\n",
        "for ch in characters:\n",
        "  data_train_path.append(r\"/content/drive/My Drive/Math_Solver/assets/pruned_dataset/\" + ch + \"/training/\")\n",
        "  data_test_path.append(r\"/content/drive/My Drive/Math_Solver/assets/pruned_dataset/\" + ch + \"/testing/\")\n",
        "\n",
        "train_folder = []\n",
        "for folder in data_train_path:\n",
        "  train_folder.append([x for x in natsorted(os.listdir(folder))])\n",
        "test_folder = []\n",
        "for folder in data_test_path:\n",
        "  test_folder.append([x for x in natsorted(os.listdir(folder))])\n",
        "\n",
        "def readIMGFiles(Folder,p): # Folder, x and y dimnensions, p-path\n",
        "  files = np.zeros((len(Folder), 32, 32), dtype=np.uint8)\n",
        "  for i in range(len(Folder)):\n",
        "    img = imread(p+Folder[i])[:,:]\n",
        "    img = resize(img, (32, 32), mode='constant', preserve_range=True)\n",
        "    files[i] = img.reshape(32,32)\n",
        "  return files\n"
      ],
      "execution_count": 68,
      "outputs": []
    },
    {
      "cell_type": "markdown",
      "metadata": {
        "id": "gXww_WFjfhZ3"
      },
      "source": [
        "## array reference key for paths\n",
        "## 0 - 9 : numbers 0-9\n",
        "## 10 : subtraction\n",
        "## 11 : addition\n",
        "## 12 : multiplication\n",
        "## 13 : open parenthesis\n",
        "## 14 : close parenthesis\n",
        "## 15 : y-variable\n",
        "## 16 : equal sign"
      ]
    },
    {
      "cell_type": "code",
      "metadata": {
        "id": "xi0cG2DkUW1p",
        "colab": {
          "base_uri": "https://localhost:8080/"
        },
        "outputId": "4ee96abe-2dcc-43e6-d69f-f968bde1743b"
      },
      "source": [
        "training_data = readIMGFiles(train_folder[0],data_train_path[0])\n",
        "testing_data = readIMGFiles(test_folder[0],data_test_path[0])\n",
        "for i in range(1,3):\n",
        "  training_data = np.concatenate((training_data,readIMGFiles(train_folder[i], data_train_path[i])))\n",
        "  testing_data = np.concatenate((testing_data,readIMGFiles(test_folder[i], data_test_path[i])))\n",
        "training_data = training_data[...,np.newaxis]\n",
        "testing_data = testing_data[...,np.newaxis]\n",
        "print(training_data.shape)"
      ],
      "execution_count": 80,
      "outputs": [
        {
          "output_type": "stream",
          "text": [
            "(2250, 32, 32, 1)\n"
          ],
          "name": "stdout"
        }
      ]
    },
    {
      "cell_type": "code",
      "metadata": {
        "id": "sbXHrRuql25b",
        "colab": {
          "base_uri": "https://localhost:8080/"
        },
        "outputId": "14ef514e-2a09-4607-a082-2c0d511e320f"
      },
      "source": [
        "training_labels = np.zeros([750*3])\n",
        "testing_labels = np.zeros([150*3])\n",
        "\n",
        "j = 1\n",
        "for i in range(750*3):\n",
        "  if i >= j * 750:\n",
        "    j += 1\n",
        "  training_labels[i] = int(j - 1)\n",
        "training_labels = training_labels[...,np.newaxis]\n",
        "\n",
        "j = 1\n",
        "for i in range(150*3):\n",
        "  if i >= j * 150:\n",
        "    j += 1\n",
        "  testing_labels[i] = int(j - 1)\n",
        "testing_labels = testing_labels[...,np.newaxis]\n",
        "\n",
        "print(training_labels.shape)\n",
        "print(training_labels[749])\n",
        "\n",
        "print(testing_labels.shape)\n",
        "print(testing_labels[100])"
      ],
      "execution_count": 84,
      "outputs": [
        {
          "output_type": "stream",
          "text": [
            "(2250, 1)\n",
            "[0.]\n",
            "(450, 1)\n",
            "[0.]\n"
          ],
          "name": "stdout"
        }
      ]
    },
    {
      "cell_type": "code",
      "metadata": {
        "id": "Db7GWlgDMPT7",
        "colab": {
          "base_uri": "https://localhost:8080/"
        },
        "outputId": "9dc85f67-b289-4925-f73a-1b77adc39a90"
      },
      "source": [
        "# change as fit/needed\n",
        "\n",
        "model = models.Sequential() # creates sequential model\n",
        "# below are the network layers being added\n",
        "model.add(layers.Conv2D(32, (3, 3), activation='relu', input_shape=(32, 32, 1))) # no rgb grey black n white\n",
        "model.add(layers.MaxPooling2D((2, 2))) \n",
        "model.add(layers.Conv2D(64, (3, 3), activation='relu'))\n",
        "model.add(layers.MaxPooling2D((2, 2)))\n",
        "model.add(layers.Conv2D(64, (3, 3), activation='relu'))\n",
        "model.add(layers.Flatten())\n",
        "model.add(layers.Dense(64, activation='relu'))\n",
        "model.add(layers.Dense(3, activation='softmax'))# 17 sybols/ charcters \n",
        "\n",
        "model.summary()\n",
        "\n",
        "# change optimizer, loss, and metrics\n",
        "model.compile(optimizer='adam', loss='sparse_categorical_crossentropy', metrics=['accuracy'])\n",
        "\n",
        "# change epochs as needed for higher accuracy\n",
        "history = model.fit(training_data, training_labels, epochs=10, batch_size=1)\n"
      ],
      "execution_count": 78,
      "outputs": [
        {
          "output_type": "stream",
          "text": [
            "Model: \"sequential_16\"\n",
            "_________________________________________________________________\n",
            "Layer (type)                 Output Shape              Param #   \n",
            "=================================================================\n",
            "conv2d_46 (Conv2D)           (None, 30, 30, 32)        320       \n",
            "_________________________________________________________________\n",
            "max_pooling2d_30 (MaxPooling (None, 15, 15, 32)        0         \n",
            "_________________________________________________________________\n",
            "conv2d_47 (Conv2D)           (None, 13, 13, 64)        18496     \n",
            "_________________________________________________________________\n",
            "max_pooling2d_31 (MaxPooling (None, 6, 6, 64)          0         \n",
            "_________________________________________________________________\n",
            "conv2d_48 (Conv2D)           (None, 4, 4, 64)          36928     \n",
            "_________________________________________________________________\n",
            "flatten_15 (Flatten)         (None, 1024)              0         \n",
            "_________________________________________________________________\n",
            "dense_30 (Dense)             (None, 64)                65600     \n",
            "_________________________________________________________________\n",
            "dense_31 (Dense)             (None, 3)                 195       \n",
            "=================================================================\n",
            "Total params: 121,539\n",
            "Trainable params: 121,539\n",
            "Non-trainable params: 0\n",
            "_________________________________________________________________\n",
            "Epoch 1/3\n",
            "2250/2250 [==============================] - 9s 4ms/step - loss: 0.4834 - accuracy: 0.8689\n",
            "Epoch 2/3\n",
            "2250/2250 [==============================] - 9s 4ms/step - loss: 0.2049 - accuracy: 0.9436\n",
            "Epoch 3/3\n",
            "2250/2250 [==============================] - 9s 4ms/step - loss: 0.1279 - accuracy: 0.9631\n"
          ],
          "name": "stdout"
        }
      ]
    },
    {
      "cell_type": "code",
      "metadata": {
        "id": "7uM_azDqkkAy",
        "colab": {
          "base_uri": "https://localhost:8080/"
        },
        "outputId": "3199ced2-166a-499d-c968-cdeb46dede36"
      },
      "source": [
        "prediction = model.predict(testing_data, verbose=1)\n",
        "print(prediction[306])\n",
        "testing_data"
      ],
      "execution_count": 99,
      "outputs": [
        {
          "output_type": "stream",
          "text": [
            "15/15 [==============================] - 0s 10ms/step\n",
            "[4.2302334e-05 4.1878852e-03 9.9576980e-01]\n"
          ],
          "name": "stdout"
        }
      ]
    },
    {
      "cell_type": "code",
      "metadata": {
        "id": "Z4l5c7ewjhKi"
      },
      "source": [
        "!pip install jupyter-dash\n",
        "!pip install dash-canvas==0.1.0\n",
        "!pip install dash==1.17.0"
      ],
      "execution_count": null,
      "outputs": []
    },
    {
      "cell_type": "code",
      "metadata": {
        "id": "aZXXvLmCvL__"
      },
      "source": [
        "import dash\n",
        "import dash_core_components as dcc\n",
        "import dash_html_components as html\n",
        "from dash.dependencies import Input, Output\n",
        "from dash.exceptions import PreventUpdate\n",
        "from dash_canvas import DashCanvas\n",
        "import plotly.express as px\n",
        "from jupyter_dash import JupyterDash\n"
      ],
      "execution_count": null,
      "outputs": []
    },
    {
      "cell_type": "code",
      "metadata": {
        "id": "3J3kF4SHCGiE"
      },
      "source": [
        "# Load Data\n",
        "# df = px.data.tips()\n",
        "# filename = 'https://drive.google.com/file/d/1hYD2JiDmR6qLFwUbb7pO2d8KEg0ToMU8/view?usp=sharing'\n",
        "# contains javascript function to install image\n",
        "# external_script = 'https://drive.google.com/file/d/1KzrU7av15opjPjZnPomXFQtPdMJb960j/view?usp=sharing'\n",
        "# external_css = 'https://drive.google.com/file/d/1-16FYwgI4_7Ocyg7Fmjs_eJQQJbqtB7J/view?usp=sharing'\n",
        "# Build App\n",
        "# app = JupyterDash(__name__, assets_external_path=external_css, external_stylesheets=external_css)\n",
        "app = JupyterDash(__name__)\n",
        "app.layout = html.Div(html.Center([\n",
        "    html.H1(\"My Math Solver\",style={\"color\":\"cornflowerblue\", \"textAlign\":\"center\"}),\n",
        "    html.Div(\n",
        "      DashCanvas(id='canvas', \n",
        "                 hide_buttons=['zoom', 'line', 'select', 'rectangle'],\n",
        "                 lineColor='black',\n",
        "                 lineWidth=5,\n",
        "                 width=400),\n",
        "                 style={\"margin\":\"auto\",\"border\":\"2px solid black\", \"width\": \"400px\"}\n",
        "    ),\n",
        "    html.Div(\n",
        "        dcc.Input(\n",
        "            id='text_field', \n",
        "            type='text',\n",
        "            placeholder=\"Enter equation here!\")\n",
        "        ),\n",
        "    html.Button('Submit', id='submit_button', n_clicks=0),\n",
        "    html.Div(id='container-button-basic',\n",
        "             children='Enter a equation and press submit'),\n",
        "    html.Img(id='my-image', width=300),\n",
        "    html.P(id='test-p', className='test-p', children='Some test string to see if css is working')\n",
        "  ]))\n",
        "\n",
        "@app.callback(Output('my-image', 'src'),[Input('canvas', 'json_data')])\n",
        "def update_data(string):\n",
        "    if string:\n",
        "        mask = parse_jsonstring(string, io.imread(filename, as_gray=True).shape)\n",
        "    else:\n",
        "        raise PreventUpdate\n",
        "    return array_to_data_url(img_as_ubyte(src))\n",
        "\n",
        "# app.run_server(mode='external')\n",
        "# Run app and display result inline in the notebook\n",
        "# app.css.append_css(dict(external_url=external_css))\n",
        "# app.run_server(mode='external', host='127.0.0.1', port=8050, debug=True, use_reloader=False)"
      ],
      "execution_count": null,
      "outputs": []
    },
    {
      "cell_type": "code",
      "metadata": {
        "id": "K4PaLX56R_1U"
      },
      "source": [
        "app._terminate_server_for_port('127.0.0.1', 8050)"
      ],
      "execution_count": null,
      "outputs": []
    }
  ]
}