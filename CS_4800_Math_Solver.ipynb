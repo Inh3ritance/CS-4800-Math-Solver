{
  "nbformat": 4,
  "nbformat_minor": 0,
  "metadata": {
    "colab": {
      "name": "CS-4800-Math-Solver.ipynb",
      "provenance": [],
      "collapsed_sections": []
    },
    "kernelspec": {
      "display_name": "Python 3",
      "name": "python3"
    }
  },
  "cells": [
    {
      "cell_type": "code",
      "metadata": {
        "id": "GDD25oebL2LI"
      },
      "source": [
        "import tensorflow as tf\n",
        "from tensorflow.keras import datasets, layers, models\n",
        "import matplotlib.pyplot as plt"
      ],
      "execution_count": null,
      "outputs": []
    },
    {
      "cell_type": "markdown",
      "metadata": {
        "id": "vGO9gSoE-eMn"
      },
      "source": [
        "# New Section"
      ]
    },
    {
      "cell_type": "code",
      "metadata": {
        "id": "F5Wjrmw-L9pk",
        "colab": {
          "base_uri": "https://localhost:8080/",
          "height": 212
        },
        "outputId": "04630513-19b6-407c-ee07-f39fe7657e27"
      },
      "source": [
        "import os\n",
        "from google.colab import drive\n",
        "drive.mount('/content/drive/',  force_remount=True)\n",
        "# Sort files in folder\n",
        "from natsort import natsorted, ns\n",
        "\n",
        "#(train_images, train_labels), (test_images, test_labels) = datasets.cifar10.load_data()\n",
        "dataset_path = r\"/content/drive/My Drive/Colab Notebooks/Math_Solver/assets/pruned_dataset/\"\n",
        "  #r\"/content/drive/My Drive/Math_Solver/assets/pruned_dataset/\" worked for Enrique\n",
        "subtract_testing = [x for x in natsorted(os.listdir(dataset_path + \"-/testing/\"))]\n",
        "subtract_training = [x for x in natsorted(os.listdir(dataset_path + \"-/training/\"))] \n",
        "\n",
        "# Normalize pixel values to be between 0 and 1 KEEP THIS!!!\n",
        "train_images, test_images = train_images / 255.0, test_images / 255.0\n"
      ],
      "execution_count": null,
      "outputs": [
        {
          "output_type": "stream",
          "text": [
            "Mounted at /content/drive/\n"
          ],
          "name": "stdout"
        },
        {
          "output_type": "error",
          "ename": "NameError",
          "evalue": "ignored",
          "traceback": [
            "\u001b[0;31m---------------------------------------------------------------------------\u001b[0m",
            "\u001b[0;31mNameError\u001b[0m                                 Traceback (most recent call last)",
            "\u001b[0;32m<ipython-input-5-1fcce0df61d6>\u001b[0m in \u001b[0;36m<module>\u001b[0;34m()\u001b[0m\n\u001b[1;32m     11\u001b[0m \u001b[0;34m\u001b[0m\u001b[0m\n\u001b[1;32m     12\u001b[0m \u001b[0;31m# Normalize pixel values to be between 0 and 1 KEEP THIS!!!\u001b[0m\u001b[0;34m\u001b[0m\u001b[0;34m\u001b[0m\u001b[0;34m\u001b[0m\u001b[0m\n\u001b[0;32m---> 13\u001b[0;31m \u001b[0mtrain_images\u001b[0m\u001b[0;34m,\u001b[0m \u001b[0mtest_images\u001b[0m \u001b[0;34m=\u001b[0m \u001b[0mtrain_images\u001b[0m \u001b[0;34m/\u001b[0m \u001b[0;36m255.0\u001b[0m\u001b[0;34m,\u001b[0m \u001b[0mtest_images\u001b[0m \u001b[0;34m/\u001b[0m \u001b[0;36m255.0\u001b[0m\u001b[0;34m\u001b[0m\u001b[0;34m\u001b[0m\u001b[0m\n\u001b[0m",
            "\u001b[0;31mNameError\u001b[0m: name 'train_images' is not defined"
          ]
        }
      ]
    },
    {
      "cell_type": "code",
      "metadata": {
        "id": "Db7GWlgDMPT7"
      },
      "source": [
        "# change as fit/needed\n",
        "\n",
        "model = models.Sequential() # creates sequential model\n",
        "# below are the network layers being added\n",
        "model.add(layers.Conv2D(32, (3, 3), activation='relu', input_shape=(32, 32, 1))) # no rgb grey black n white\n",
        "model.add(layers.MaxPooling2D((2, 2))) \n",
        "model.add(layers.Conv2D(64, (3, 3), activation='relu'))\n",
        "model.add(layers.MaxPooling2D((2, 2)))\n",
        "model.add(layers.Conv2D(64, (3, 3), activation='relu'))\n",
        "model.add(layers.Flatten())\n",
        "model.add(layers.Dense(64, activation='relu'))\n",
        "model.add(layers.Dense(10, activation='softmax'))# 10 sybols/ charcters \n",
        "\n",
        "model.summary()\n",
        "\n",
        "# change optimizer, loss, and metrics\n",
        "model.compile(optimizer='adam', loss='categorical_crossentropy', metrics=['accuracy'])\n",
        "\n",
        "# change epochs as needed for higher accuracy\n",
        "history = model.fit(train_images, train_labels, epochs=10, validation_data=(test_images, test_labels), batch_size=1)\n"
      ],
      "execution_count": null,
      "outputs": []
    },
    {
      "cell_type": "code",
      "metadata": {
        "id": "9URGbZ08NArk"
      },
      "source": [
        "# evaluate model to see if the model is improving\n",
        "plt.plot(history.history['accuracy'], label='accuracy')\n",
        "plt.plot(history.history['val_accuracy'], label = 'val_accuracy')\n",
        "plt.xlabel('Epoch')\n",
        "plt.ylabel('Accuracy')\n",
        "plt.ylim([0.5, 1])\n",
        "plt.legend(loc='lower right')\n",
        "\n",
        "test_loss, test_acc = model.evaluate(test_images,  test_labels, verbose=2)"
      ],
      "execution_count": null,
      "outputs": []
    },
    {
      "cell_type": "code",
      "metadata": {
        "id": "Z4l5c7ewjhKi"
      },
      "source": [
        "!pip install jupyter-dash\n",
        "!pip install dash-canvas==0.1.0\n",
        "!pip install dash==1.17.0"
      ],
      "execution_count": null,
      "outputs": []
    },
    {
      "cell_type": "code",
      "metadata": {
        "id": "aZXXvLmCvL__"
      },
      "source": [
        "import dash\n",
        "import dash_core_components as dcc\n",
        "import dash_html_components as html\n",
        "from dash.dependencies import Input, Output\n",
        "from dash.exceptions import PreventUpdate\n",
        "from dash_canvas import DashCanvas\n",
        "import plotly.express as px\n",
        "from jupyter_dash import JupyterDash\n"
      ],
      "execution_count": null,
      "outputs": []
    },
    {
      "cell_type": "code",
      "metadata": {
        "id": "VMikSC3t1N-A"
      },
      "source": [
        "\n",
        "filename = 'https://drive.google.com/file/d/1hYD2JiDmR6qLFwUbb7pO2d8KEg0ToMU8/view?usp=sharing'\n",
        "# external_script = 'https://drive.google.com/file/d/1KzrU7av15opjPjZnPomXFQtPdMJb960j/view?usp=sharing'\n",
        "# external_script = r\"/content/drive/My Drive/Colab Notebooks/Math_Solver/assets/app.js\" # not entirely sure if I am doing this correctly -AJ\n",
        "# external_css = 'https://drive.google.com/file/d/1-16FYwgI4_7Ocyg7Fmjs_eJQQJbqtB7J/view?usp=sharing'\n",
        "\n",
        "\n",
        "app = JupyterDash(__name__)\n",
        "\n",
        "app.layout = html.Div(html.Center([\n",
        "    html.H1(\"My Math Solver\",style={\"color\":\"cornflowerblue\", \"textAlign\":\"center\"}),\n",
        "    html.Div(\n",
        "      DashCanvas(id='canvas', \n",
        "                 hide_buttons=['zoom', 'line', 'select', 'rectangle'],\n",
        "                 lineColor='black',\n",
        "                 lineWidth=5,\n",
        "                 width=400,\n",
        "                 filename=filename),\n",
        "                 style={\"margin\":\"auto\",\"border\":\"2px solid black\", \"width\": \"400px\"}\n",
        "    ),\n",
        "    html.Div(\n",
        "        dcc.Input(\n",
        "            id='text_field', \n",
        "            type='text',\n",
        "            placeholder=\"Enter equation here!\")\n",
        "        ),\n",
        "    html.Button('Submit', id='submit_button', n_clicks=0),\n",
        "    html.Div(id='container-button-basic',\n",
        "             children='Enter a equation and press submit'),\n",
        "    html.Img(id='my-image', width=300),\n",
        "    html.P(id='test-p', className='test-p', children='Some test string to see if css is working')\n",
        "  ]))\n",
        "\n",
        "@app.callback(Output('my-image', 'src'),[Input('canvas', 'json_data')])\n",
        "def update_data(string):\n",
        "    if string:\n",
        "        mask = parse_jsonstring(string, io.imread(filename, as_gray=True).shape)\n",
        "    else:\n",
        "        raise PreventUpdate\n",
        "    return array_to_data_url(img_as_ubyte(src))\n",
        "\n",
        "app.run_server(mode='external')"
      ],
      "execution_count": null,
      "outputs": []
    },
    {
      "cell_type": "code",
      "metadata": {
        "id": "3J3kF4SHCGiE"
      },
      "source": [
        "# Load Data\n",
        "# df = px.data.tips()\n",
        "# filename = 'https://drive.google.com/file/d/1hYD2JiDmR6qLFwUbb7pO2d8KEg0ToMU8/view?usp=sharing'\n",
        "# contains javascript function to install image\n",
        "# external_script = 'https://drive.google.com/file/d/1KzrU7av15opjPjZnPomXFQtPdMJb960j/view?usp=sharing'\n",
        "# external_css = 'https://drive.google.com/file/d/1-16FYwgI4_7Ocyg7Fmjs_eJQQJbqtB7J/view?usp=sharing'\n",
        "# Build App\n",
        "# app = JupyterDash(__name__, assets_external_path=external_css, external_stylesheets=external_css)\n",
        "app = JupyterDash(__name__)\n",
        "app.layout = html.Div(html.Center([\n",
        "    html.H1(\"My Math Solver\",style={\"color\":\"cornflowerblue\", \"textAlign\":\"center\"}),\n",
        "    html.Div(\n",
        "      DashCanvas(id='canvas', \n",
        "                 hide_buttons=['zoom', 'line', 'select', 'rectangle'],\n",
        "                 lineColor='black',\n",
        "                 lineWidth=5,\n",
        "                 width=400),\n",
        "                 style={\"margin\":\"auto\",\"border\":\"2px solid black\", \"width\": \"400px\"}\n",
        "    ),\n",
        "    html.Div(\n",
        "        dcc.Input(\n",
        "            id='text_field', \n",
        "            type='text',\n",
        "            placeholder=\"Enter equation here!\")\n",
        "        ),\n",
        "    html.Button('Submit', id='submit_button', n_clicks=0),\n",
        "    html.Div(id='container-button-basic',\n",
        "             children='Enter a equation and press submit'),\n",
        "    html.Img(id='my-image', width=300),\n",
        "    html.P(id='test-p', className='test-p', children='Some test string to see if css is working')\n",
        "  ]))\n",
        "\n",
        "@app.callback(Output('my-image', 'src'),[Input('canvas', 'json_data')])\n",
        "def update_data(string):\n",
        "    if string:\n",
        "        mask = parse_jsonstring(string, io.imread(filename, as_gray=True).shape)\n",
        "    else:\n",
        "        raise PreventUpdate\n",
        "    return array_to_data_url(img_as_ubyte(src))\n",
        "\n",
        "# app.run_server(mode='external')\n",
        "# Run app and display result inline in the notebook\n",
        "# app.css.append_css(dict(external_url=external_css))\n",
        "# app.run_server(mode='external', host='127.0.0.1', port=8050, debug=True, use_reloader=False)"
      ],
      "execution_count": null,
      "outputs": []
    },
    {
      "cell_type": "code",
      "metadata": {
        "id": "K4PaLX56R_1U"
      },
      "source": [
        "app._terminate_server_for_port('127.0.0.1', 8050)"
      ],
      "execution_count": null,
      "outputs": []
    },
    {
      "cell_type": "code",
      "metadata": {
        "id": "AHsdX7ta2H-J"
      },
      "source": [
        "# Do not RUN! production Server only!!!\n",
        "# ! pip install pyngrok\n",
        "# ! ngrok authtoken xxxxxxx\n",
        "\n",
        "# from pyngrok import ngrok\n",
        "\n",
        "# # Open Http tunnel to port\n",
        "# public_url = ngrok.connect(port = '8050')\n",
        "# public_url\n",
        "# ngrok.kill()\n"
      ],
      "execution_count": null,
      "outputs": []
    },
    {
      "cell_type": "code",
      "metadata": {
        "id": "C5Loe9r9MHBX"
      },
      "source": [
        ""
      ],
      "execution_count": null,
      "outputs": []
    }
  ]
}